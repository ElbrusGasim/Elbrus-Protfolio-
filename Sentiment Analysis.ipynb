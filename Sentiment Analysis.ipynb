{
 "cells": [
  {
   "cell_type": "markdown",
   "metadata": {},
   "source": [
    "# Importing Necessarry Libraries "
   ]
  },
  {
   "cell_type": "code",
   "execution_count": 1,
   "metadata": {},
   "outputs": [],
   "source": [
    "import tweepy,re\n",
    "from textblob import TextBlob\n",
    "import matplotlib.pyplot as plt\n",
    "import pandas as pd\n",
    "from nltk.tokenize import word_tokenize\n",
    "from nltk.stem import WordNetLemmatizer\n",
    "from nltk.corpus import stopwords"
   ]
  },
  {
   "cell_type": "code",
   "execution_count": 2,
   "metadata": {},
   "outputs": [],
   "source": [
    "# authentication\n",
    "# these are my credentials for authentication from developers app(https://developer.twitter.com/en/portal/projects/1496233127722860552/apps/23469414/keys)\n",
    "consumerKey = 'Xd8sONHrOM0iEq98zx7MKGoU2'\n",
    "consumerSecret = 'XTC374wBkLPjPFvCsXDgOfbBl9njwOPQ3l0Dbq2CF34ust5J8s'\n",
    "accessToken = '1490710778860777474-IStEjWn7Vkqavam06SbkgyoITz83l2'\n",
    "accessTokenSecret = 'fFvlUuROEBJBBtTNhIZCZ8LlXAneDvIRHMnp8CFRTZFiK'\n",
    "auth = tweepy.OAuthHandler(consumerKey, consumerSecret)\n",
    "auth.set_access_token(accessToken, accessTokenSecret)\n",
    "api = tweepy.API(auth)"
   ]
  },
  {
   "cell_type": "code",
   "execution_count": 4,
   "metadata": {},
   "outputs": [],
   "source": [
    "# input for term to be searched and how many tweets to search\n",
    "searchTerm = input(\"Enter Keyword/Tag to search about: \")\n",
    "NoOfTerms = int(input(\"Enter how many tweets to search: \"))\n",
    "\n",
    "tweets = []\n",
    "tweetText = []\n",
    "# searching for tweets\n",
    "tweets = tweepy.Cursor(api.search_tweets, q=searchTerm+\" -filter:retweets\", lang = \"en\").items(NoOfTerms)"
   ]
  },
  {
   "cell_type": "code",
   "execution_count": 5,
   "metadata": {},
   "outputs": [
    {
     "data": {
      "text/html": [
       "<div>\n",
       "<style scoped>\n",
       "    .dataframe tbody tr th:only-of-type {\n",
       "        vertical-align: middle;\n",
       "    }\n",
       "\n",
       "    .dataframe tbody tr th {\n",
       "        vertical-align: top;\n",
       "    }\n",
       "\n",
       "    .dataframe thead th {\n",
       "        text-align: right;\n",
       "    }\n",
       "</style>\n",
       "<table border=\"1\" class=\"dataframe\">\n",
       "  <thead>\n",
       "    <tr style=\"text-align: right;\">\n",
       "      <th></th>\n",
       "      <th>0</th>\n",
       "    </tr>\n",
       "  </thead>\n",
       "  <tbody>\n",
       "    <tr>\n",
       "      <th>0</th>\n",
       "      <td>The Lebanese activists worked with Jack Sweene...</td>\n",
       "    </tr>\n",
       "    <tr>\n",
       "      <th>1</th>\n",
       "      <td>It started with a letter to Elon Musk, then a ...</td>\n",
       "    </tr>\n",
       "    <tr>\n",
       "      <th>2</th>\n",
       "      <td>@IntEngineering Hey Elon--any thoughts for thi...</td>\n",
       "    </tr>\n",
       "    <tr>\n",
       "      <th>3</th>\n",
       "      <td>@_hamstercoin_coin   #hamstercoin #hamsterswap...</td>\n",
       "    </tr>\n",
       "    <tr>\n",
       "      <th>4</th>\n",
       "      <td>@shushanblansh @narecus @elonmusk Exactly:) \\n...</td>\n",
       "    </tr>\n",
       "    <tr>\n",
       "      <th>...</th>\n",
       "      <td>...</td>\n",
       "    </tr>\n",
       "    <tr>\n",
       "      <th>95</th>\n",
       "      <td>Try de go church.\\n                -Elon musk</td>\n",
       "    </tr>\n",
       "    <tr>\n",
       "      <th>96</th>\n",
       "      <td>Elon Musk must have had a cracked PR team a co...</td>\n",
       "    </tr>\n",
       "    <tr>\n",
       "      <th>97</th>\n",
       "      <td>elon got nothing on her https://t.co/sd6MZzGb2V</td>\n",
       "    </tr>\n",
       "    <tr>\n",
       "      <th>98</th>\n",
       "      <td>@elonmusk I'm Elon Musk : genius, richest man ...</td>\n",
       "    </tr>\n",
       "    <tr>\n",
       "      <th>99</th>\n",
       "      <td>Elon Musk accuses Biden of ignoring Tesla, but...</td>\n",
       "    </tr>\n",
       "  </tbody>\n",
       "</table>\n",
       "<p>100 rows × 1 columns</p>\n",
       "</div>"
      ],
      "text/plain": [
       "                                                    0\n",
       "0   The Lebanese activists worked with Jack Sweene...\n",
       "1   It started with a letter to Elon Musk, then a ...\n",
       "2   @IntEngineering Hey Elon--any thoughts for thi...\n",
       "3   @_hamstercoin_coin   #hamstercoin #hamsterswap...\n",
       "4   @shushanblansh @narecus @elonmusk Exactly:) \\n...\n",
       "..                                                ...\n",
       "95      Try de go church.\\n                -Elon musk\n",
       "96  Elon Musk must have had a cracked PR team a co...\n",
       "97    elon got nothing on her https://t.co/sd6MZzGb2V\n",
       "98  @elonmusk I'm Elon Musk : genius, richest man ...\n",
       "99  Elon Musk accuses Biden of ignoring Tesla, but...\n",
       "\n",
       "[100 rows x 1 columns]"
      ]
     },
     "execution_count": 5,
     "metadata": {},
     "output_type": "execute_result"
    }
   ],
   "source": [
    "tweet_list = [tweet.text for tweet in tweets]\n",
    "tweet_df = pd.DataFrame(tweet_list)\n",
    "tweet_df"
   ]
  },
  {
   "cell_type": "markdown",
   "metadata": {},
   "source": [
    "# Cleaning Procedure "
   ]
  },
  {
   "cell_type": "code",
   "execution_count": 6,
   "metadata": {},
   "outputs": [],
   "source": [
    "def clean_data(text):\n",
    "    return ' '.join(re.sub(\"(@[a-zA-Z0-9]+)|([^0-9A-Za-z])|(https://[\\w.]+/[\\w]+)\", \" \", text).split())\n",
    "\n",
    "tweet_df['cleaned_data'] = tweet_df[0].apply(clean_data)"
   ]
  },
  {
   "cell_type": "code",
   "execution_count": 7,
   "metadata": {},
   "outputs": [
    {
     "data": {
      "text/html": [
       "<div>\n",
       "<style scoped>\n",
       "    .dataframe tbody tr th:only-of-type {\n",
       "        vertical-align: middle;\n",
       "    }\n",
       "\n",
       "    .dataframe tbody tr th {\n",
       "        vertical-align: top;\n",
       "    }\n",
       "\n",
       "    .dataframe thead th {\n",
       "        text-align: right;\n",
       "    }\n",
       "</style>\n",
       "<table border=\"1\" class=\"dataframe\">\n",
       "  <thead>\n",
       "    <tr style=\"text-align: right;\">\n",
       "      <th></th>\n",
       "      <th>0</th>\n",
       "      <th>cleaned_data</th>\n",
       "    </tr>\n",
       "  </thead>\n",
       "  <tbody>\n",
       "    <tr>\n",
       "      <th>0</th>\n",
       "      <td>The Lebanese activists worked with Jack Sweene...</td>\n",
       "      <td>The Lebanese activists worked with Jack Sweene...</td>\n",
       "    </tr>\n",
       "    <tr>\n",
       "      <th>1</th>\n",
       "      <td>It started with a letter to Elon Musk, then a ...</td>\n",
       "      <td>It started with a letter to Elon Musk then a T...</td>\n",
       "    </tr>\n",
       "    <tr>\n",
       "      <th>2</th>\n",
       "      <td>@IntEngineering Hey Elon--any thoughts for thi...</td>\n",
       "      <td>Hey Elon any thoughts for this wonderful machine</td>\n",
       "    </tr>\n",
       "    <tr>\n",
       "      <th>3</th>\n",
       "      <td>@_hamstercoin_coin   #hamstercoin #hamsterswap...</td>\n",
       "      <td>hamstercoin coin hamstercoin hamsterswap elon ...</td>\n",
       "    </tr>\n",
       "    <tr>\n",
       "      <th>4</th>\n",
       "      <td>@shushanblansh @narecus @elonmusk Exactly:) \\n...</td>\n",
       "      <td>Exactly I think Elon has now been compromised ...</td>\n",
       "    </tr>\n",
       "  </tbody>\n",
       "</table>\n",
       "</div>"
      ],
      "text/plain": [
       "                                                   0  \\\n",
       "0  The Lebanese activists worked with Jack Sweene...   \n",
       "1  It started with a letter to Elon Musk, then a ...   \n",
       "2  @IntEngineering Hey Elon--any thoughts for thi...   \n",
       "3  @_hamstercoin_coin   #hamstercoin #hamsterswap...   \n",
       "4  @shushanblansh @narecus @elonmusk Exactly:) \\n...   \n",
       "\n",
       "                                        cleaned_data  \n",
       "0  The Lebanese activists worked with Jack Sweene...  \n",
       "1  It started with a letter to Elon Musk then a T...  \n",
       "2   Hey Elon any thoughts for this wonderful machine  \n",
       "3  hamstercoin coin hamstercoin hamsterswap elon ...  \n",
       "4  Exactly I think Elon has now been compromised ...  "
      ]
     },
     "execution_count": 7,
     "metadata": {},
     "output_type": "execute_result"
    }
   ],
   "source": [
    "tweet_df.head()"
   ]
  },
  {
   "cell_type": "code",
   "execution_count": 8,
   "metadata": {},
   "outputs": [],
   "source": [
    "def drop_numbers(list_text):\n",
    "    list_text_new = []\n",
    "    for i in list_text:\n",
    "        if not re.search('\\d', i):\n",
    "            list_text_new.append(i)\n",
    "    return ''.join(list_text_new)\n",
    "\n",
    "tweet_df['cleaned_data'] = tweet_df['cleaned_data'].apply(drop_numbers)"
   ]
  },
  {
   "cell_type": "code",
   "execution_count": 9,
   "metadata": {},
   "outputs": [
    {
     "data": {
      "text/html": [
       "<div>\n",
       "<style scoped>\n",
       "    .dataframe tbody tr th:only-of-type {\n",
       "        vertical-align: middle;\n",
       "    }\n",
       "\n",
       "    .dataframe tbody tr th {\n",
       "        vertical-align: top;\n",
       "    }\n",
       "\n",
       "    .dataframe thead th {\n",
       "        text-align: right;\n",
       "    }\n",
       "</style>\n",
       "<table border=\"1\" class=\"dataframe\">\n",
       "  <thead>\n",
       "    <tr style=\"text-align: right;\">\n",
       "      <th></th>\n",
       "      <th>0</th>\n",
       "      <th>cleaned_data</th>\n",
       "    </tr>\n",
       "  </thead>\n",
       "  <tbody>\n",
       "    <tr>\n",
       "      <th>0</th>\n",
       "      <td>The Lebanese activists worked with Jack Sweene...</td>\n",
       "      <td>The Lebanese activists worked with Jack Sweene...</td>\n",
       "    </tr>\n",
       "    <tr>\n",
       "      <th>1</th>\n",
       "      <td>It started with a letter to Elon Musk, then a ...</td>\n",
       "      <td>It started with a letter to Elon Musk then a T...</td>\n",
       "    </tr>\n",
       "    <tr>\n",
       "      <th>2</th>\n",
       "      <td>@IntEngineering Hey Elon--any thoughts for thi...</td>\n",
       "      <td>Hey Elon any thoughts for this wonderful machine</td>\n",
       "    </tr>\n",
       "    <tr>\n",
       "      <th>3</th>\n",
       "      <td>@_hamstercoin_coin   #hamstercoin #hamsterswap...</td>\n",
       "      <td>hamstercoin coin hamstercoin hamsterswap elon ...</td>\n",
       "    </tr>\n",
       "    <tr>\n",
       "      <th>4</th>\n",
       "      <td>@shushanblansh @narecus @elonmusk Exactly:) \\n...</td>\n",
       "      <td>Exactly I think Elon has now been compromised ...</td>\n",
       "    </tr>\n",
       "  </tbody>\n",
       "</table>\n",
       "</div>"
      ],
      "text/plain": [
       "                                                   0  \\\n",
       "0  The Lebanese activists worked with Jack Sweene...   \n",
       "1  It started with a letter to Elon Musk, then a ...   \n",
       "2  @IntEngineering Hey Elon--any thoughts for thi...   \n",
       "3  @_hamstercoin_coin   #hamstercoin #hamsterswap...   \n",
       "4  @shushanblansh @narecus @elonmusk Exactly:) \\n...   \n",
       "\n",
       "                                        cleaned_data  \n",
       "0  The Lebanese activists worked with Jack Sweene...  \n",
       "1  It started with a letter to Elon Musk then a T...  \n",
       "2   Hey Elon any thoughts for this wonderful machine  \n",
       "3  hamstercoin coin hamstercoin hamsterswap elon ...  \n",
       "4  Exactly I think Elon has now been compromised ...  "
      ]
     },
     "execution_count": 9,
     "metadata": {},
     "output_type": "execute_result"
    }
   ],
   "source": [
    "tweet_df.head()"
   ]
  },
  {
   "cell_type": "code",
   "execution_count": 15,
   "metadata": {},
   "outputs": [],
   "source": [
    "# changing all the words of the reviews column to lowercase letters\n",
    "def lower_case(text):\n",
    "    text_words = word_tokenize(text)\n",
    "    text_words_lower = [x.lower() for x in text_words]\n",
    "    return ' '.join(text_words_lower)\n",
    "\n",
    "tweet_df['cleaned_data'] = tweet_df['cleaned_data'].apply(lower_case)"
   ]
  },
  {
   "cell_type": "code",
   "execution_count": 14,
   "metadata": {},
   "outputs": [
    {
     "name": "stderr",
     "output_type": "stream",
     "text": [
      "[nltk_data] Downloading package wordnet to\n",
      "[nltk_data]     /Users/elbrusgasimov/nltk_data...\n",
      "[nltk_data]   Package wordnet is already up-to-date!\n",
      "[nltk_data] Downloading package punkt to\n",
      "[nltk_data]     /Users/elbrusgasimov/nltk_data...\n",
      "[nltk_data]   Unzipping tokenizers/punkt.zip.\n"
     ]
    },
    {
     "data": {
      "text/plain": [
       "True"
      ]
     },
     "execution_count": 14,
     "metadata": {},
     "output_type": "execute_result"
    }
   ],
   "source": [
    "import nltk\n",
    "nltk.download('wordnet')\n",
    "nltk.download('punkt')"
   ]
  },
  {
   "cell_type": "code",
   "execution_count": 16,
   "metadata": {},
   "outputs": [],
   "source": [
    "lemmatizer = WordNetLemmatizer()\n",
    "def lemmatise(text):\n",
    "    text_tokens = word_tokenize(text)\n",
    "    text_lemm = [lemmatizer.lemmatize(word) for word in text_tokens]\n",
    "    return ' '.join(text_lemm)\n",
    "\n",
    "tweet_df['cleaned_data'] = tweet_df['cleaned_data'].apply(lemmatise)"
   ]
  },
  {
   "cell_type": "code",
   "execution_count": 17,
   "metadata": {},
   "outputs": [
    {
     "data": {
      "text/plain": [
       "array(['the lebanese activist worked with jack sweeney creator of the twitter bot tracking the movement of elon musk s p',\n",
       "       'it started with a letter to elon musk then a twitter reply to a reuters story now the tongan worst hit by tsunam',\n",
       "       'hey elon any thought for this wonderful machine',\n",
       "       'hamstercoin coin hamstercoin hamsterswap elon musk said that hamster ha mad skillz hamster cheese',\n",
       "       'exactly i think elon ha now been compromised with am gov member mi citing his tweet',\n",
       "       'hamstercoin coin hamstercoin hamsterswap elon musk said that hamster ha mad skillz hamster cheese',\n",
       "       'elon musk spotted handing out cash at kanye west donda listening event kanyewest donda donda elonmusk',\n",
       "       'elon musk want steam game to work on amd navi powered tesla infotainment system wed feb',\n",
       "       'musk family but i can t see elon there',\n",
       "       'elon must is atheist or agnostic',\n",
       "       'you mean like deliver an ev truck where s elon s ripoff of the halo warthog',\n",
       "       'place whenever elon pull up anywhere and there s camera',\n",
       "       'is elon musk capable of leading a team and raising a family we should consider the republic',\n",
       "       'a a tsla owner i think i speak for the majority in saying that i am very pleased with elon s perfo',\n",
       "       'elon musk want steam game to work on amd navi powered tesla infotainment system',\n",
       "       'pray to elon',\n",
       "       'the first link is a pdf written by elon musk the hyperloop concept the second link is satoshi nakamoto s b',\n",
       "       'weird that twitter kinda force you to follow elon musk when you sign up',\n",
       "       'elon musk s legal spat with sec over a tweet is still going on',\n",
       "       'elon musk post hilarious meme about web and ethereum',\n",
       "       'explain elon', 'pump it elon',\n",
       "       'elon musk accuses biden of ignoring tesla but say he would do the right thing if invited to white house',\n",
       "       'holy shit elon based rare',\n",
       "       'gala tlm vra hero free omi luffy richquack kuma kishu shiba elon dogedash starl ankr rose keep dent stx xyo so cheap',\n",
       "       'hi elon you re so amazing have you check doge hope you both more success and grow up fast together',\n",
       "       'mar cargo challenge elon musk estimate that he will need to transport one million ton of cargo to mar before a',\n",
       "       'your software suck if elon wa not on twitter i would never use this a you guessed it ot s',\n",
       "       'elon musk spotted giving away tesla at kanye west donda listening event kanyewest donda donda elonmusk',\n",
       "       'orenar are you an elon fan metaverse hottie and an nft bro',\n",
       "       'don t follow fake account it s nothing elon musk',\n",
       "       'elon musk poker skill chamath',\n",
       "       'and what will happen if the martian capture the earth before elon musk ca',\n",
       "       'elon musk is talking crypto with french montana and rick ross at kanye s donda concert',\n",
       "       'musk who parnika jd and yeah ind doe not ask for aid',\n",
       "       'not much of a surprise tbh group of doctor accuse elon musk s neuralink of killing causing extreme suffering',\n",
       "       'elon that will accumulate my position i ll take a look is hold',\n",
       "       'but it took me attempt to get an obvious an',\n",
       "       'elon musk french montana amp rick ross talking crypto',\n",
       "       'hamstercoin coin hamstercoin hamsterswap elon love the hamster hamster cheese',\n",
       "       'fact',\n",
       "       'hamstercoin coin hamstercoin hamsterswap elon love the hamster hamster cheese',\n",
       "       'or maybe elon musk can give u allemaal an elecric tesla because hij heeft er enoug',\n",
       "       'you an elon musk fan',\n",
       "       'wall street think long term retail investor are fool for taking elon at face value',\n",
       "       'there always time my friend everearnarmy is always growing check out everearn if you havent i',\n",
       "       'elon musk give a run down of which crypto is important shiba shibainu dogecoin cryptocurrecy bitcoin',\n",
       "       'is it elon please say it s elon nobody go get him',\n",
       "       'elon musk recently announced that tesla will be accepting dogecoin on a test basis a payment for their product',\n",
       "       'noghost but elon musk is our own he is south african',\n",
       "       'men are pig and woman',\n",
       "       'elon musk say official have nothing to worry about when it come to inviting him to the white house cnbc',\n",
       "       'stallin work for elon but complains about people being easily offended lol',\n",
       "       'new elon musk say he dont own any shib but shib is going up shib shiba shibarmy shibainu shibaarmystrong',\n",
       "       'can elon musk increase the price of gala crypto from r to r',\n",
       "       'the original battle wa the elon cult coming after frum when he question',\n",
       "       'have you noticed that anti elon sentiment seems to have died down a year ago fanboys were legit tr',\n",
       "       'varghese that s not to take away from what elon did he won he chan',\n",
       "       'elon musk et son bandana a i guess',\n",
       "       'i deadass meet elon musk lol gave him a covid test',\n",
       "       'isn t elon musk south african',\n",
       "       'i wa attracted to his profit photo in the first place truly a',\n",
       "       'btc thanks to elon market manipulation is in a key support alt btc theta mir zil matic xrp doge eth',\n",
       "       'a day with elon musk or btc which will it be',\n",
       "       'i adore and respect elon musk very much this is not simply business this is the',\n",
       "       'interesting read for sure helping paraplegic walk and curing brain disorder are certainly noble goal and i quot',\n",
       "       'and you still use foot and inch wonder if elon build his rocket in metric bet he doe',\n",
       "       'hy elon how about memetech', 'hey elon look this',\n",
       "       'get ready for the milestone shib doge floki cate x monsta elon keanu slp',\n",
       "       'wednesdaywisdom the evolution of elon musk',\n",
       "       'elon musk say official have nothing to worry about when it come to inviting him to the white house cnbc',\n",
       "       'what doe elon musk eat for dinner',\n",
       "       'the btc that elon sold is now total',\n",
       "       'musk who parnika jd lol such an uneducated u believe',\n",
       "       'led by goverments elon musk bill gate the iluminatea cia fbi mi kingsman the vatican kling',\n",
       "       'we don t need elon musk for shib to pump it s doing just fine without him anything crypto he mention',\n",
       "       'check out my latest elon tweet you ll like it',\n",
       "       'but like how ha he been the biggest impact on elon i ve been a fan of kanye s',\n",
       "       'elon will it be time to accumulate',\n",
       "       'elon yeah there s lot of them out there',\n",
       "       'elon musk once said most people will panic to find a charger before their phone dy but won t panic to find a',\n",
       "       'no way how could they i thought russian wa trustworthy',\n",
       "       'youtuber beat elon musk amp becomes the richest person short video',\n",
       "       'good job',\n",
       "       'elon musk say official have nothing to worry about when it come to inviting him to the white house cnbc',\n",
       "       'avoigt he suck elon s dick so no',\n",
       "       'howell agree i would prefer to listen to mike and elon',\n",
       "       'elon in background convinced me',\n",
       "       'elon dropping his new album soon cat album',\n",
       "       'bear kanye west and elon musk i m almost ready to stop being a fan',\n",
       "       'hi elon i m working hard but unfortunately i just can t save the money to buy a tesla i really want a',\n",
       "       'putin net worth putin ha plane car and a gold toilet russian president is ahead of elon musk in wealt',\n",
       "       'thankyou dogelonspace dogelonmars dogelon elon',\n",
       "       'apollo nope i considered it i drive a lot of them and see a lot on a daily basis i wa on the fence given th',\n",
       "       'try de go church elon musk',\n",
       "       'elon musk must have had a cracked pr team a couple year back bc now you hear all the dumb shit he doe like glue chip to monke brain',\n",
       "       'elon got nothing on her',\n",
       "       'i m elon musk genius richest man on the earth professional comician absolute legend',\n",
       "       'elon musk accuses biden of ignoring tesla but say he would do the right thing if invited to white house cnbc'],\n",
       "      dtype=object)"
      ]
     },
     "execution_count": 17,
     "metadata": {},
     "output_type": "execute_result"
    }
   ],
   "source": [
    "tweet_df['cleaned_data'].values"
   ]
  },
  {
   "cell_type": "code",
   "execution_count": 18,
   "metadata": {},
   "outputs": [],
   "source": [
    "def remove_stopword(text):\n",
    "    text_tokens = word_tokenize(text)\n",
    "    tokens = [word for word in text_tokens if not word in set(stopwords.words('english'))]\n",
    "    tokens_text = ' '.join(tokens)\n",
    "    return tokens_text\n",
    "\n",
    "tweet_df['cleaned_data'] = tweet_df['cleaned_data'].apply(remove_stopword)"
   ]
  },
  {
   "cell_type": "code",
   "execution_count": 19,
   "metadata": {},
   "outputs": [
    {
     "data": {
      "text/plain": [
       "array(['lebanese activist worked jack sweeney creator twitter bot tracking movement elon musk p',\n",
       "       'started letter elon musk twitter reply reuters story tongan worst hit tsunam',\n",
       "       'hey elon thought wonderful machine',\n",
       "       'hamstercoin coin hamstercoin hamsterswap elon musk said hamster ha mad skillz hamster cheese',\n",
       "       'exactly think elon ha compromised gov member mi citing tweet',\n",
       "       'hamstercoin coin hamstercoin hamsterswap elon musk said hamster ha mad skillz hamster cheese',\n",
       "       'elon musk spotted handing cash kanye west donda listening event kanyewest donda donda elonmusk',\n",
       "       'elon musk want steam game work amd navi powered tesla infotainment system wed feb',\n",
       "       'musk family see elon', 'elon must atheist agnostic',\n",
       "       'mean like deliver ev truck elon ripoff halo warthog',\n",
       "       'place whenever elon pull anywhere camera',\n",
       "       'elon musk capable leading team raising family consider republic',\n",
       "       'tsla owner think speak majority saying pleased elon perfo',\n",
       "       'elon musk want steam game work amd navi powered tesla infotainment system',\n",
       "       'pray elon',\n",
       "       'first link pdf written elon musk hyperloop concept second link satoshi nakamoto b',\n",
       "       'weird twitter kinda force follow elon musk sign',\n",
       "       'elon musk legal spat sec tweet still going',\n",
       "       'elon musk post hilarious meme web ethereum', 'explain elon',\n",
       "       'pump elon',\n",
       "       'elon musk accuses biden ignoring tesla say would right thing invited white house',\n",
       "       'holy shit elon based rare',\n",
       "       'gala tlm vra hero free omi luffy richquack kuma kishu shiba elon dogedash starl ankr rose keep dent stx xyo cheap',\n",
       "       'hi elon amazing check doge hope success grow fast together',\n",
       "       'mar cargo challenge elon musk estimate need transport one million ton cargo mar',\n",
       "       'software suck elon wa twitter would never use guessed ot',\n",
       "       'elon musk spotted giving away tesla kanye west donda listening event kanyewest donda donda elonmusk',\n",
       "       'orenar elon fan metaverse hottie nft bro',\n",
       "       'follow fake account nothing elon musk',\n",
       "       'elon musk poker skill chamath',\n",
       "       'happen martian capture earth elon musk ca',\n",
       "       'elon musk talking crypto french montana rick ross kanye donda concert',\n",
       "       'musk parnika jd yeah ind doe ask aid',\n",
       "       'much surprise tbh group doctor accuse elon musk neuralink killing causing extreme suffering',\n",
       "       'elon accumulate position take look hold',\n",
       "       'took attempt get obvious',\n",
       "       'elon musk french montana amp rick ross talking crypto',\n",
       "       'hamstercoin coin hamstercoin hamsterswap elon love hamster hamster cheese',\n",
       "       'fact',\n",
       "       'hamstercoin coin hamstercoin hamsterswap elon love hamster hamster cheese',\n",
       "       'maybe elon musk give u allemaal elecric tesla hij heeft er enoug',\n",
       "       'elon musk fan',\n",
       "       'wall street think long term retail investor fool taking elon face value',\n",
       "       'always time friend everearnarmy always growing check everearn havent',\n",
       "       'elon musk give run crypto important shiba shibainu dogecoin cryptocurrecy bitcoin',\n",
       "       'elon please say elon nobody go get',\n",
       "       'elon musk recently announced tesla accepting dogecoin test basis payment product',\n",
       "       'noghost elon musk south african', 'men pig woman',\n",
       "       'elon musk say official nothing worry come inviting white house cnbc',\n",
       "       'stallin work elon complains people easily offended lol',\n",
       "       'new elon musk say dont shib shib going shib shiba shibarmy shibainu shibaarmystrong',\n",
       "       'elon musk increase price gala crypto r r',\n",
       "       'original battle wa elon cult coming frum question',\n",
       "       'noticed anti elon sentiment seems died year ago fanboys legit tr',\n",
       "       'varghese take away elon chan', 'elon musk et son bandana guess',\n",
       "       'deadass meet elon musk lol gave covid test',\n",
       "       'elon musk south african',\n",
       "       'wa attracted profit photo first place truly',\n",
       "       'btc thanks elon market manipulation key support alt btc theta mir zil matic xrp doge eth',\n",
       "       'day elon musk btc',\n",
       "       'adore respect elon musk much simply business',\n",
       "       'interesting read sure helping paraplegic walk curing brain disorder certainly noble goal quot',\n",
       "       'still use foot inch wonder elon build rocket metric bet doe',\n",
       "       'hy elon memetech', 'hey elon look',\n",
       "       'get ready milestone shib doge floki cate x monsta elon keanu slp',\n",
       "       'wednesdaywisdom evolution elon musk',\n",
       "       'elon musk say official nothing worry come inviting white house cnbc',\n",
       "       'doe elon musk eat dinner', 'btc elon sold total',\n",
       "       'musk parnika jd lol uneducated u believe',\n",
       "       'led goverments elon musk bill gate iluminatea cia fbi mi kingsman vatican kling',\n",
       "       'need elon musk shib pump fine without anything crypto mention',\n",
       "       'check latest elon tweet like',\n",
       "       'like ha biggest impact elon fan kanye', 'elon time accumulate',\n",
       "       'elon yeah lot',\n",
       "       'elon musk said people panic find charger phone dy panic find',\n",
       "       'way could thought russian wa trustworthy',\n",
       "       'youtuber beat elon musk amp becomes richest person short video',\n",
       "       'good job',\n",
       "       'elon musk say official nothing worry come inviting white house cnbc',\n",
       "       'avoigt suck elon dick',\n",
       "       'howell agree would prefer listen mike elon',\n",
       "       'elon background convinced',\n",
       "       'elon dropping new album soon cat album',\n",
       "       'bear kanye west elon musk almost ready stop fan',\n",
       "       'hi elon working hard unfortunately save money buy tesla really want',\n",
       "       'putin net worth putin ha plane car gold toilet russian president ahead elon musk wealt',\n",
       "       'thankyou dogelonspace dogelonmars dogelon elon',\n",
       "       'apollo nope considered drive lot see lot daily basis wa fence given th',\n",
       "       'try de go church elon musk',\n",
       "       'elon musk must cracked pr team couple year back bc hear dumb shit doe like glue chip monke brain',\n",
       "       'elon got nothing',\n",
       "       'elon musk genius richest man earth professional comician absolute legend',\n",
       "       'elon musk accuses biden ignoring tesla say would right thing invited white house cnbc'],\n",
       "      dtype=object)"
      ]
     },
     "execution_count": 19,
     "metadata": {},
     "output_type": "execute_result"
    }
   ],
   "source": [
    "tweet_df['cleaned_data'].values"
   ]
  },
  {
   "cell_type": "markdown",
   "metadata": {},
   "source": [
    "# Polarity of the Reviews"
   ]
  },
  {
   "cell_type": "code",
   "execution_count": 20,
   "metadata": {},
   "outputs": [],
   "source": [
    "# Lets calculate the Polarity of the Reviews\n",
    "def get_polarity(text):\n",
    "    textblob = TextBlob(str(text))\n",
    "    pol = textblob.sentiment.polarity\n",
    "    if(pol==0):\n",
    "        return \"Neutral\"\n",
    "    elif(pol>0 and pol<=0.3):\n",
    "        return \"Weakly Positive\"\n",
    "    elif(pol>0.3 and pol<=0.6):\n",
    "        return \"Positive\"\n",
    "    elif(pol>0.6 and pol<=1):\n",
    "        return \"Strongly Positive\"\n",
    "    elif(pol>-0.3 and pol<=0):\n",
    "        return \"Weakly Negative\"\n",
    "    elif(pol>-0.6 and pol<=-0.3):\n",
    "        return \"Negative\"\n",
    "    elif(pol>-1 and pol<=-0.6):\n",
    "        return \"Strongly Negative\"\n",
    "    \n",
    "tweet_df['polarity'] = tweet_df['cleaned_data'].apply(get_polarity)"
   ]
  },
  {
   "cell_type": "code",
   "execution_count": 21,
   "metadata": {},
   "outputs": [
    {
     "data": {
      "text/plain": [
       "Neutral              57\n",
       "Weakly Positive      16\n",
       "Positive             11\n",
       "Strongly Positive     5\n",
       "Negative              5\n",
       "Weakly Negative       3\n",
       "Strongly Negative     2\n",
       "Name: polarity, dtype: int64"
      ]
     },
     "execution_count": 21,
     "metadata": {},
     "output_type": "execute_result"
    }
   ],
   "source": [
    "tweet_df['polarity'].value_counts()"
   ]
  },
  {
   "cell_type": "code",
   "execution_count": 22,
   "metadata": {},
   "outputs": [
    {
     "data": {
      "text/plain": [
       "0               object\n",
       "cleaned_data    object\n",
       "polarity        object\n",
       "dtype: object"
      ]
     },
     "execution_count": 22,
     "metadata": {},
     "output_type": "execute_result"
    }
   ],
   "source": [
    "tweet_df.dtypes"
   ]
  },
  {
   "cell_type": "code",
   "execution_count": 23,
   "metadata": {},
   "outputs": [],
   "source": [
    "neutral = 0\n",
    "wpositive = 0\n",
    "spositive = 0\n",
    "positive = 0\n",
    "negative = 0\n",
    "wnegative = 0\n",
    "snegative = 0\n",
    "polarity = 0\n",
    "\n",
    "for i in range(0,70):\n",
    "    textblob = TextBlob(str(tweet_df['cleaned_data'][i]))\n",
    "    polarity+= textblob.sentiment.polarity\n",
    "    pol = textblob.sentiment.polarity\n",
    "    if (pol == 0):  # adding reaction of how people are reacting to find average later\n",
    "        neutral += 1\n",
    "    elif (pol > 0 and pol <= 0.3):\n",
    "        wpositive += 1\n",
    "    elif (pol > 0.3 and pol <= 0.6):\n",
    "        positive += 1\n",
    "    elif (pol > 0.6 and pol <= 1):\n",
    "        spositive += 1\n",
    "    elif (pol > -0.3 and pol <= 0):\n",
    "        wnegative += 1\n",
    "    elif (pol > -0.6 and pol <= -0.3):\n",
    "        negative += 1\n",
    "    elif (pol > -1 and pol <= -0.6):\n",
    "        snegative += 1\n"
   ]
  },
  {
   "cell_type": "code",
   "execution_count": 24,
   "metadata": {},
   "outputs": [
    {
     "data": {
      "text/plain": [
       "0.036875541125541124"
      ]
     },
     "execution_count": 24,
     "metadata": {},
     "output_type": "execute_result"
    }
   ],
   "source": [
    "# finding average reaction\n",
    "polarity = polarity / NoOfTerms\n",
    "polarity"
   ]
  },
  {
   "cell_type": "code",
   "execution_count": 25,
   "metadata": {},
   "outputs": [],
   "source": [
    "def percentage(part, whole):\n",
    "    temp = 100 * float(part) / float(whole)\n",
    "    return format(temp, '.2f')"
   ]
  },
  {
   "cell_type": "code",
   "execution_count": 26,
   "metadata": {},
   "outputs": [],
   "source": [
    " # finding average of how people are reacting\n",
    "positive = percentage(positive, NoOfTerms)\n",
    "wpositive = percentage(wpositive, NoOfTerms)\n",
    "spositive = percentage(spositive, NoOfTerms)\n",
    "negative = percentage(negative, NoOfTerms)\n",
    "wnegative = percentage(wnegative, NoOfTerms)\n",
    "snegative = percentage(snegative, NoOfTerms)\n",
    "neutral = percentage(neutral, NoOfTerms)\n",
    "\n"
   ]
  },
  {
   "cell_type": "code",
   "execution_count": 27,
   "metadata": {},
   "outputs": [
    {
     "name": "stdout",
     "output_type": "stream",
     "text": [
      "How people are reacting on elon by analyzing 100 tweets.\n",
      "\n",
      "-----------------------------------------------------------------------------------------\n",
      "\n",
      "General Report: \n",
      "Weakly Positive\n",
      "\n",
      "------------------------------------------------------------------------------------------\n",
      "\n",
      "Detailed Report: \n",
      "9.00% people thought it was positive\n",
      "11.00% people thought it was weakly positive\n",
      "3.00% people thought it was strongly positive\n",
      "5.00% people thought it was negative\n",
      "1.00% people thought it was weakly negative\n",
      "2.00% people thought it was strongly negative\n",
      "38.00% people thought it was neutral\n"
     ]
    }
   ],
   "source": [
    " # printing out data\n",
    "print(\"How people are reacting on \" + searchTerm + \" by analyzing \" + str(NoOfTerms) + \" tweets.\")\n",
    "print()\n",
    "print(\"-----------------------------------------------------------------------------------------\")\n",
    "print()\n",
    "print(\"General Report: \")\n",
    "\n",
    "if (polarity == 0):\n",
    "    print(\"Neutral\")\n",
    "elif (polarity > 0 and polarity <= 0.3):\n",
    "    print(\"Weakly Positive\")\n",
    "elif (polarity > 0.3 and polarity <= 0.6):\n",
    "    print(\"Positive\")\n",
    "elif (polarity > 0.6 and polarity <= 1):\n",
    "    print(\"Strongly Positive\")\n",
    "elif (polarity > -0.3 and polarity <= 0):\n",
    "    print(\"Weakly Negative\")\n",
    "elif (polarity > -0.6 and polarity <= -0.3):\n",
    "    print(\"Negative\")\n",
    "elif (polarity > -1 and polarity <= -0.6):\n",
    "    print(\"Strongly Negative\")\n",
    "\n",
    "print()\n",
    "print(\"------------------------------------------------------------------------------------------\")\n",
    "print()\n",
    "print(\"Detailed Report: \")\n",
    "print(str(positive) + \"% people thought it was positive\")\n",
    "print(str(wpositive) + \"% people thought it was weakly positive\")\n",
    "print(str(spositive) + \"% people thought it was strongly positive\")\n",
    "print(str(negative) + \"% people thought it was negative\")\n",
    "print(str(wnegative) + \"% people thought it was weakly negative\")\n",
    "print(str(snegative) + \"% people thought it was strongly negative\")\n",
    "print(str(neutral) + \"% people thought it was neutral\")"
   ]
  },
  {
   "cell_type": "code",
   "execution_count": 28,
   "metadata": {},
   "outputs": [],
   "source": [
    "sizes = [positive, wpositive, spositive, neutral, negative, wnegative, snegative]\n",
    "colors = ['yellowgreen','lightgreen','darkgreen', 'gold', 'red','lightsalmon','darkred']\n",
    "labels = ['Positive [' + str(positive) + '%]', 'Weakly Positive [' + str(wpositive) + '%]',\n",
    "          'Strongly Positive [' + str(spositive) + '%]', 'Neutral [' + str(neutral) + '%]',\n",
    "          'Negative [' + str(negative) + '%]', 'Weakly Negative [' + str(wnegative) + '%]', \n",
    "          'Strongly Negative [' + str(snegative) + '%]']"
   ]
  },
  {
   "cell_type": "code",
   "execution_count": 29,
   "metadata": {},
   "outputs": [
    {
     "data": {
      "image/png": "[encoded data removed]",
      "text/plain": [
       "<Figure size 432x288 with 1 Axes>"
      ]
     },
     "metadata": {},
     "output_type": "display_data"
    }
   ],
   "source": [
    "plt.pie(sizes, labels = labels, colors = colors)\n",
    "plt.legend(labels, loc=\"best\")\n",
    "plt.title('How people are reacting on ' + searchTerm + ' by analyzing ' + str(NoOfTerms) + ' Tweets.')\n",
    "plt.axis('equal')\n",
    "plt.tight_layout()\n",
    "plt.show()"
   ]
  },
  {
   "cell_type": "code",
   "execution_count": null,
   "metadata": {},
   "outputs": [],
   "source": []
  }
 ],
 "metadata": {
  "kernelspec": {
   "display_name": "Python 3",
   "language": "python",
   "name": "python3"
  },
  "language_info": {
   "codemirror_mode": {
    "name": "ipython",
    "version": 3
   },
   "file_extension": ".py",
   "mimetype": "text/x-python",
   "name": "python",
   "nbconvert_exporter": "python",
   "pygments_lexer": "ipython3",
   "version": "3.8.8"
  }
 },
 "nbformat": 4,
 "nbformat_minor": 4
}
